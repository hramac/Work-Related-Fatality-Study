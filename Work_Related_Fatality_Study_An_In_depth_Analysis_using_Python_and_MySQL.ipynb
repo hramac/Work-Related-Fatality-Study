{
  "nbformat": 4,
  "nbformat_minor": 0,
  "metadata": {
    "colab": {
      "provenance": [],
      "authorship_tag": "ABX9TyOVuV8EoOTB/P0IAZRhSuTv",
      "include_colab_link": true
    },
    "kernelspec": {
      "name": "python3",
      "display_name": "Python 3"
    },
    "language_info": {
      "name": "python"
    }
  },
  "cells": [
    {
      "cell_type": "markdown",
      "metadata": {
        "id": "view-in-github",
        "colab_type": "text"
      },
      "source": [
        "<a href=\"https://colab.research.google.com/github/hramac/Work-Related-Fatality-Study/blob/main/Work_Related_Fatality_Study_An_In_depth_Analysis_using_Python_and_MySQL.ipynb\" target=\"_parent\"><img src=\"https://colab.research.google.com/assets/colab-badge.svg\" alt=\"Open In Colab\"/></a>"
      ]
    },
    {
      "cell_type": "markdown",
      "source": [
        "In this project, you will be working on real-world dataset to analyze fatal incidents that occurred in various workplaces. This project aims at cleaning the dataset, analyzing the given dataset and mine informational insights using Python and MySQL.\n",
        "\n",
        "Project Description\n",
        "The Work-Related Fatality Study is a comprehensive analysis of fatal incidents that occurred in various workplaces. The project aims to examine and understand the factors contributing to work-related fatalities, identify trends and patterns, and provide insights to improve workplace safety measures."
      ],
      "metadata": {
        "id": "Mb7w7f6tdDm_"
      }
    },
    {
      "cell_type": "code",
      "execution_count": null,
      "metadata": {
        "id": "ONF8nsg7dAkO"
      },
      "outputs": [],
      "source": [
        "import pandas as pd\n",
        "import numpy as np\n",
        "\n",
        "\n",
        "#Task 1: Read the given dataset\n",
        "def read_data_from_csv():\n",
        "    #df =read the 'fatality.csv' file\n",
        "    df = pd.read_csv('fatality.csv')\n",
        "    return df\n",
        "\n",
        "\n",
        "\n",
        "#Task 2: Clean the given dataset\n",
        "def data_cleaning():\n",
        "    # do not edit the predefined function name\n",
        "    df = read_data_from_csv()\n",
        "    # Remove the 'Unnamed' column\n",
        "    df = df.drop(columns=['Unnamed'])\n",
        "\n",
        "    return df\n",
        "\n",
        "\n",
        "\n",
        "#Task 3: Export the cleaned dataset to \"fatalities_cleaned.csv\"\n",
        "def export_the_dataset():\n",
        "    # do not edit the predefined function name\n",
        "    df=data_cleaning()\n",
        "    #write your code to export the cleaned dataset and set the index=false and return the same as 'df'\n",
        "    df.to_csv('fatalities_cleaned.csv', index=False)\n",
        "\n",
        "    return df\n",
        "\n",
        "\n",
        "#TASK 4: Load the Cleaned dataset 'fatalities_cleaned.csv' to the database provided.\n",
        "#follow the instruction in the Task 4 description and complete the task as per it.\n",
        "\n",
        "#check if mysql table is created using \"fatalities_cleaned\"\n",
        "#Use this final dataset and upload it on the provided database for performing analysis in  MySQL\n",
        "#To run this task click on the terminal and click on the run project"
      ]
    },
    {
      "cell_type": "markdown",
      "source": [
        "Database Details\n",
        "Host: localhost | Database: be9f1af6\n",
        "\n",
        "Username: be9f1af6 | Password: Cab#22se"
      ],
      "metadata": {
        "id": "A25v6K_wdK1b"
      }
    }
  ]
}